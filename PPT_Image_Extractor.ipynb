{
 "cells": [
  {
   "cell_type": "code",
   "execution_count": 83,
   "metadata": {},
   "outputs": [
    {
     "name": "stdout",
     "output_type": "stream",
     "text": [
      "C:\\Users\\Scott\\Documents\\Python\\notebook\n"
     ]
    }
   ],
   "source": [
    "import pathlib\n",
    "folder_cwd = pathlib.Path.cwd()\n",
    "print(cwd)"
   ]
  },
  {
   "cell_type": "code",
   "execution_count": 84,
   "metadata": {},
   "outputs": [
    {
     "name": "stdout",
     "output_type": "stream",
     "text": [
      "C:\\Users\\Scott\\Documents\\Python\\notebook\\test-file.pptx\n",
      "test-file\n",
      ".pptx\n",
      "test-file.pptx\n",
      "C:\\Users\\Scott\\Documents\\Python\\notebook\n"
     ]
    }
   ],
   "source": [
    "file_path = folder_cwd / 'test-file.pptx'\n",
    "file_stem = file_path.stem\n",
    "file_ext = file_path.suffix\n",
    "file_name = file_path.name\n",
    "file_parent = file_path.parent\n",
    "print(file_path)\n",
    "print(file_stem)\n",
    "print(file_ext)\n",
    "print(file_name)\n",
    "print(file_parent)"
   ]
  },
  {
   "cell_type": "code",
   "execution_count": 85,
   "metadata": {},
   "outputs": [
    {
     "data": {
      "text/plain": [
       "True"
      ]
     },
     "execution_count": 85,
     "metadata": {},
     "output_type": "execute_result"
    }
   ],
   "source": [
    "file_path.is_file()"
   ]
  },
  {
   "cell_type": "code",
   "execution_count": 86,
   "metadata": {},
   "outputs": [
    {
     "name": "stdout",
     "output_type": "stream",
     "text": [
      "File Converted\n"
     ]
    }
   ],
   "source": [
    "# PPTX can be saved as a .zip file and the images used by extracting the folders\n",
    "try:\n",
    "    new_file_name = file_parent / (file_stem + '.zip')\n",
    "    file_path.rename(new_file_name)\n",
    "    print(\"File Converted\")\n",
    "except:\n",
    "    print(\"File Conersion Failed\")"
   ]
  },
  {
   "cell_type": "code",
   "execution_count": 87,
   "metadata": {},
   "outputs": [
    {
     "name": "stdout",
     "output_type": "stream",
     "text": [
      "Unpacked File\n"
     ]
    }
   ],
   "source": [
    "import shutil\n",
    "new_folder_path = file_parent / file_stem\n",
    "try:\n",
    "    shutil.unpack_archive(new_file_name, new_folder_path)\n",
    "    print(\"Unpacked File\")\n",
    "    new_file_name.unlink()\n",
    "except:\n",
    "    print(\"File Unpacking Failed\")"
   ]
  },
  {
   "cell_type": "code",
   "execution_count": 88,
   "metadata": {
    "scrolled": true
   },
   "outputs": [
    {
     "name": "stdout",
     "output_type": "stream",
     "text": [
      "C:\\Users\\Scott\\Documents\\Python\\notebook\\test-file\\ppt\\media\\image1.jpg\n",
      "C:\\Users\\Scott\\Documents\\Python\\notebook\\test-file\\ppt\\media\\image10.jpg\n",
      "C:\\Users\\Scott\\Documents\\Python\\notebook\\test-file\\ppt\\media\\image11.jpg\n",
      "C:\\Users\\Scott\\Documents\\Python\\notebook\\test-file\\ppt\\media\\image12.jpg\n",
      "C:\\Users\\Scott\\Documents\\Python\\notebook\\test-file\\ppt\\media\\image13.jpg\n",
      "C:\\Users\\Scott\\Documents\\Python\\notebook\\test-file\\ppt\\media\\image14.jpg\n",
      "C:\\Users\\Scott\\Documents\\Python\\notebook\\test-file\\ppt\\media\\image15.jpg\n",
      "C:\\Users\\Scott\\Documents\\Python\\notebook\\test-file\\ppt\\media\\image16.jpg\n",
      "C:\\Users\\Scott\\Documents\\Python\\notebook\\test-file\\ppt\\media\\image17.jpg\n",
      "C:\\Users\\Scott\\Documents\\Python\\notebook\\test-file\\ppt\\media\\image18.jpg\n",
      "C:\\Users\\Scott\\Documents\\Python\\notebook\\test-file\\ppt\\media\\image2.jpg\n",
      "C:\\Users\\Scott\\Documents\\Python\\notebook\\test-file\\ppt\\media\\image3.jpg\n",
      "C:\\Users\\Scott\\Documents\\Python\\notebook\\test-file\\ppt\\media\\image4.jpg\n",
      "C:\\Users\\Scott\\Documents\\Python\\notebook\\test-file\\ppt\\media\\image5.jpg\n",
      "C:\\Users\\Scott\\Documents\\Python\\notebook\\test-file\\ppt\\media\\image6.jpg\n",
      "C:\\Users\\Scott\\Documents\\Python\\notebook\\test-file\\ppt\\media\\image7.jpg\n",
      "C:\\Users\\Scott\\Documents\\Python\\notebook\\test-file\\ppt\\media\\image8.jpg\n",
      "C:\\Users\\Scott\\Documents\\Python\\notebook\\test-file\\ppt\\media\\image9.jpg\n"
     ]
    }
   ],
   "source": [
    "\n",
    "# images used in slides as stored here\n",
    "media_path = new_folder_path / 'ppt' / 'media'\n",
    "extracted_image_path = file_parent / 'extracted-images' / file_stem\n",
    "extracted_image_path.mkdir(parents=True, exist_ok=True)\n",
    "\n",
    "for i in media_path.rglob('*.jpg'):\n",
    "    print(i)\n",
    "    shutil.copy(i, extracted_image_path)\n",
    "# remove folder created for unpacking image\n",
    "shutil.rmtree(new_folder_path)\n"
   ]
  },
  {
   "cell_type": "code",
   "execution_count": null,
   "metadata": {},
   "outputs": [],
   "source": []
  }
 ],
 "metadata": {
  "kernelspec": {
   "display_name": "Python 3",
   "language": "python",
   "name": "python3"
  },
  "language_info": {
   "codemirror_mode": {
    "name": "ipython",
    "version": 3
   },
   "file_extension": ".py",
   "mimetype": "text/x-python",
   "name": "python",
   "nbconvert_exporter": "python",
   "pygments_lexer": "ipython3",
   "version": "3.7.0"
  }
 },
 "nbformat": 4,
 "nbformat_minor": 2
}
